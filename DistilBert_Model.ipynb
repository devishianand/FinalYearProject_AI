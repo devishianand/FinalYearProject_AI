{
 "cells": [
  {
   "cell_type": "markdown",
   "id": "06b2daec",
   "metadata": {},
   "source": [
    "# DistilBERT with Optuna implementation and hyperparameter tuning"
   ]
  },
  {
   "cell_type": "markdown",
   "id": "6c25e1b4",
   "metadata": {},
   "source": [
    "understanding transformer: \n",
    "- each encoder and decoder has a self attention layer & feed forward neural network\n",
    "- self attention layer - encodes a token by incorporating information from other surrounding token. this provides each unique token a contextual meaning\n",
    "- each self attention layeris a combination of multiple sets of query, key, value - multi head self attention "
   ]
  },
  {
   "cell_type": "markdown",
   "id": "8b350924",
   "metadata": {},
   "source": [
    "- It does not have a decoder block \n",
    "- has encoder blocks stacked one after other\n",
    "- How was bert trained?\n",
    "    - masked language modelling\n",
    "    - Next sentence prediction \n",
    "    - bert was simultaneousy trained on those 2 tasks\n",
    "\n",
    "Types of tuning :\n",
    "    - zero shot\n",
    "    - few shot\n",
    "    -fine-tuning"
   ]
  },
  {
   "cell_type": "code",
   "execution_count": 1,
   "id": "d606a17f",
   "metadata": {},
   "outputs": [],
   "source": [
    "import pandas as pd\n",
    "import numpy as np\n",
    "import torch\n",
    "from transformers import (DistilBertTokenizerFast, DistilBertForSequenceClassification,\n",
    "                          Trainer, TrainingArguments, EarlyStoppingCallback)\n",
    "from datasets import Dataset\n",
    "from sklearn.model_selection import train_test_split\n",
    "from sklearn.metrics import accuracy_score, f1_score\n",
    "import optuna"
   ]
  },
  {
   "cell_type": "markdown",
   "id": "7b6189d3",
   "metadata": {},
   "source": [
    "### Load data "
   ]
  },
  {
   "cell_type": "code",
   "execution_count": 2,
   "id": "1dbe812f",
   "metadata": {},
   "outputs": [],
   "source": [
    "df = pd.read_csv(\"/Users/devishi/Uni_CW/FinalYearProject/Code/DA_FYP/sampled_glassdoor_reviews.csv\")\n",
    "\n",
    "\n",
    "\n",
    "# Rename for clarity\n",
    "df = df.rename(columns={\"Review_Clean\": \"text\", \"Overall Rating\": \"label\"})\n",
    "# Adjust labels: make them 0-indexed (0 to 4)\n",
    "df['label'] = df['label'] - 1\n",
    "\n",
    "# Split data (80-20 split, stratified)\n",
    "train_df, test_df = train_test_split(df, test_size=0.2, random_state=42, stratify=df['label'])\n",
    "train_dataset = Dataset.from_pandas(train_df)\n",
    "test_dataset = Dataset.from_pandas(test_df)\n",
    "\n"
   ]
  },
  {
   "cell_type": "markdown",
   "id": "fc0508af",
   "metadata": {},
   "source": [
    "### Tokenization"
   ]
  },
  {
   "cell_type": "code",
   "execution_count": null,
   "id": "3a757d5c",
   "metadata": {},
   "outputs": [
    {
     "name": "stderr",
     "output_type": "stream",
     "text": [
      "/Users/devishi/anaconda3/envs/fyp_clean/lib/python3.11/site-packages/huggingface_hub/file_download.py:896: FutureWarning: `resume_download` is deprecated and will be removed in version 1.0.0. Downloads always resume when possible. If you want to force a new download, use `force_download=True`.\n",
      "  warnings.warn(\n"
     ]
    },
    {
     "data": {
      "application/vnd.jupyter.widget-view+json": {
       "model_id": "aca34944763a43e3add2b9b82b3d0b62",
       "version_major": 2,
       "version_minor": 0
      },
      "text/plain": [
       "Map:   0%|          | 0/4000 [00:00<?, ? examples/s]"
      ]
     },
     "metadata": {},
     "output_type": "display_data"
    },
    {
     "data": {
      "application/vnd.jupyter.widget-view+json": {
       "model_id": "e7dd3b8d74834e57a380900a8ebe168b",
       "version_major": 2,
       "version_minor": 0
      },
      "text/plain": [
       "Map:   0%|          | 0/1000 [00:00<?, ? examples/s]"
      ]
     },
     "metadata": {},
     "output_type": "display_data"
    }
   ],
   "source": [
    "model_name = \"distilbert-base-uncased\" # model name from Hugging Face\n",
    "tokenizer = DistilBertTokenizerFast.from_pretrained(model_name) # Load the tokenizer\n",
    "\n",
    "# Tokenize the dataset\n",
    "def tokenize_function(examples):\n",
    "    return tokenizer(examples[\"text\"], padding=\"max_length\", truncation=True, max_length=256)\n",
    "\n",
    "train_dataset = train_dataset.map(tokenize_function, batched=True)\n",
    "test_dataset = test_dataset.map(tokenize_function, batched=True)\n",
    "\n",
    "# Set the format for PyTorch\n",
    "train_dataset.set_format(type='torch', columns=['input_ids', 'attention_mask', 'label'])\n",
    "test_dataset.set_format(type='torch', columns=['input_ids', 'attention_mask', 'label'])"
   ]
  },
  {
   "cell_type": "markdown",
   "id": "a7923456",
   "metadata": {},
   "source": [
    "### Evaluation func"
   ]
  },
  {
   "cell_type": "code",
   "execution_count": 4,
   "id": "0176e2ed",
   "metadata": {},
   "outputs": [],
   "source": [
    "def compute_metrics(eval_pred):\n",
    "    logits, labels = eval_pred\n",
    "    predictions = np.argmax(logits, axis=-1)\n",
    "    acc = accuracy_score(labels, predictions)\n",
    "    f1 = f1_score(labels, predictions, average=\"weighted\")\n",
    "    return {\"accuracy\": acc, \"f1\": f1}"
   ]
  },
  {
   "cell_type": "markdown",
   "id": "fbe622c3",
   "metadata": {},
   "source": [
    "### Set up model and tokenization"
   ]
  },
  {
   "cell_type": "code",
   "execution_count": null,
   "id": "f0677c75",
   "metadata": {},
   "outputs": [
    {
     "name": "stderr",
     "output_type": "stream",
     "text": [
      "[I 2025-04-16 19:31:55,746] A new study created in memory with name: no-name-0cbc83aa-fea8-4fde-97ff-b2ce39f17987\n",
      "Some weights of DistilBertForSequenceClassification were not initialized from the model checkpoint at distilbert-base-uncased and are newly initialized: ['classifier.bias', 'classifier.weight', 'pre_classifier.bias', 'pre_classifier.weight']\n",
      "You should probably TRAIN this model on a down-stream task to be able to use it for predictions and inference.\n",
      "Some weights of DistilBertForSequenceClassification were not initialized from the model checkpoint at distilbert-base-uncased and are newly initialized: ['classifier.bias', 'classifier.weight', 'pre_classifier.bias', 'pre_classifier.weight']\n",
      "You should probably TRAIN this model on a down-stream task to be able to use it for predictions and inference.\n"
     ]
    },
    {
     "data": {
      "application/vnd.jupyter.widget-view+json": {
       "model_id": "61e87b1ddb8d450b9c884ce83a7c34be",
       "version_major": 2,
       "version_minor": 0
      },
      "text/plain": [
       "  0%|          | 0/500 [00:00<?, ?it/s]"
      ]
     },
     "metadata": {},
     "output_type": "display_data"
    },
    {
     "data": {
      "application/vnd.jupyter.widget-view+json": {
       "model_id": "71748ba3ff9a46fb8b15e7958a92b9a0",
       "version_major": 2,
       "version_minor": 0
      },
      "text/plain": [
       "  0%|          | 0/32 [00:00<?, ?it/s]"
      ]
     },
     "metadata": {},
     "output_type": "display_data"
    },
    {
     "name": "stdout",
     "output_type": "stream",
     "text": [
      "{'eval_loss': 1.4477605819702148, 'eval_accuracy': 0.33, 'eval_f1': 0.16425563909774438, 'eval_runtime': 9.0633, 'eval_samples_per_second': 110.335, 'eval_steps_per_second': 3.531, 'epoch': 1.0}\n",
      "{'loss': 1.4692, 'grad_norm': 2.5870513916015625, 'learning_rate': 0.0, 'epoch': 2.0}\n"
     ]
    },
    {
     "data": {
      "application/vnd.jupyter.widget-view+json": {
       "model_id": "46821b7813764bc2a981226cfe259d25",
       "version_major": 2,
       "version_minor": 0
      },
      "text/plain": [
       "  0%|          | 0/32 [00:00<?, ?it/s]"
      ]
     },
     "metadata": {},
     "output_type": "display_data"
    },
    {
     "name": "stdout",
     "output_type": "stream",
     "text": [
      "{'eval_loss': 1.435513973236084, 'eval_accuracy': 0.336, 'eval_f1': 0.18792428915542975, 'eval_runtime': 8.8046, 'eval_samples_per_second': 113.577, 'eval_steps_per_second': 3.634, 'epoch': 2.0}\n",
      "{'train_runtime': 265.4659, 'train_samples_per_second': 30.136, 'train_steps_per_second': 1.883, 'train_loss': 1.4692061767578124, 'epoch': 2.0}\n"
     ]
    },
    {
     "data": {
      "application/vnd.jupyter.widget-view+json": {
       "model_id": "124349490e144172be82f85a1b86ecf3",
       "version_major": 2,
       "version_minor": 0
      },
      "text/plain": [
       "  0%|          | 0/32 [00:00<?, ?it/s]"
      ]
     },
     "metadata": {},
     "output_type": "display_data"
    },
    {
     "name": "stderr",
     "output_type": "stream",
     "text": [
      "[I 2025-04-16 19:36:31,014] Trial 0 finished with value: 0.336 and parameters: {'learning_rate': 2.5749539808620392e-06, 'per_device_train_batch_size': 16, 'num_train_epochs': 2}. Best is trial 0 with value: 0.336.\n",
      "/Users/devishi/anaconda3/envs/fyp_clean/lib/python3.11/site-packages/huggingface_hub/file_download.py:896: FutureWarning: `resume_download` is deprecated and will be removed in version 1.0.0. Downloads always resume when possible. If you want to force a new download, use `force_download=True`.\n",
      "  warnings.warn(\n",
      "Some weights of DistilBertForSequenceClassification were not initialized from the model checkpoint at distilbert-base-uncased and are newly initialized: ['classifier.bias', 'classifier.weight', 'pre_classifier.bias', 'pre_classifier.weight']\n",
      "You should probably TRAIN this model on a down-stream task to be able to use it for predictions and inference.\n",
      "Some weights of DistilBertForSequenceClassification were not initialized from the model checkpoint at distilbert-base-uncased and are newly initialized: ['classifier.bias', 'classifier.weight', 'pre_classifier.bias', 'pre_classifier.weight']\n",
      "You should probably TRAIN this model on a down-stream task to be able to use it for predictions and inference.\n"
     ]
    },
    {
     "data": {
      "application/vnd.jupyter.widget-view+json": {
       "model_id": "7c959a9337af416c8af023e69a1ab2bd",
       "version_major": 2,
       "version_minor": 0
      },
      "text/plain": [
       "  0%|          | 0/500 [00:00<?, ?it/s]"
      ]
     },
     "metadata": {},
     "output_type": "display_data"
    },
    {
     "data": {
      "application/vnd.jupyter.widget-view+json": {
       "model_id": "130cc41c10cb473991dc915effc53246",
       "version_major": 2,
       "version_minor": 0
      },
      "text/plain": [
       "  0%|          | 0/32 [00:00<?, ?it/s]"
      ]
     },
     "metadata": {},
     "output_type": "display_data"
    },
    {
     "name": "stdout",
     "output_type": "stream",
     "text": [
      "{'eval_loss': 1.4465551376342773, 'eval_accuracy': 0.33, 'eval_f1': 0.16425563909774438, 'eval_runtime': 8.775, 'eval_samples_per_second': 113.96, 'eval_steps_per_second': 3.647, 'epoch': 1.0}\n",
      "{'loss': 1.4676, 'grad_norm': 2.6056368350982666, 'learning_rate': 0.0, 'epoch': 2.0}\n"
     ]
    },
    {
     "data": {
      "application/vnd.jupyter.widget-view+json": {
       "model_id": "6213c3bc54eb436c94beea0b5fe291e1",
       "version_major": 2,
       "version_minor": 0
      },
      "text/plain": [
       "  0%|          | 0/32 [00:00<?, ?it/s]"
      ]
     },
     "metadata": {},
     "output_type": "display_data"
    },
    {
     "name": "stdout",
     "output_type": "stream",
     "text": [
      "{'eval_loss': 1.4341192245483398, 'eval_accuracy': 0.338, 'eval_f1': 0.1929366155964882, 'eval_runtime': 8.7702, 'eval_samples_per_second': 114.022, 'eval_steps_per_second': 3.649, 'epoch': 2.0}\n",
      "{'train_runtime': 256.4182, 'train_samples_per_second': 31.199, 'train_steps_per_second': 1.95, 'train_loss': 1.4675919189453126, 'epoch': 2.0}\n"
     ]
    },
    {
     "data": {
      "application/vnd.jupyter.widget-view+json": {
       "model_id": "a9df4dc9ab5d43eabb4f0e36c1abc54b",
       "version_major": 2,
       "version_minor": 0
      },
      "text/plain": [
       "  0%|          | 0/32 [00:00<?, ?it/s]"
      ]
     },
     "metadata": {},
     "output_type": "display_data"
    },
    {
     "name": "stderr",
     "output_type": "stream",
     "text": [
      "[I 2025-04-16 19:40:57,816] Trial 1 finished with value: 0.338 and parameters: {'learning_rate': 2.664542808026462e-06, 'per_device_train_batch_size': 16, 'num_train_epochs': 2}. Best is trial 1 with value: 0.338.\n",
      "/Users/devishi/anaconda3/envs/fyp_clean/lib/python3.11/site-packages/huggingface_hub/file_download.py:896: FutureWarning: `resume_download` is deprecated and will be removed in version 1.0.0. Downloads always resume when possible. If you want to force a new download, use `force_download=True`.\n",
      "  warnings.warn(\n",
      "Some weights of DistilBertForSequenceClassification were not initialized from the model checkpoint at distilbert-base-uncased and are newly initialized: ['classifier.bias', 'classifier.weight', 'pre_classifier.bias', 'pre_classifier.weight']\n",
      "You should probably TRAIN this model on a down-stream task to be able to use it for predictions and inference.\n",
      "Some weights of DistilBertForSequenceClassification were not initialized from the model checkpoint at distilbert-base-uncased and are newly initialized: ['classifier.bias', 'classifier.weight', 'pre_classifier.bias', 'pre_classifier.weight']\n",
      "You should probably TRAIN this model on a down-stream task to be able to use it for predictions and inference.\n"
     ]
    },
    {
     "data": {
      "application/vnd.jupyter.widget-view+json": {
       "model_id": "05be01b794b445e1afa9cfc246429581",
       "version_major": 2,
       "version_minor": 0
      },
      "text/plain": [
       "  0%|          | 0/750 [00:00<?, ?it/s]"
      ]
     },
     "metadata": {},
     "output_type": "display_data"
    },
    {
     "data": {
      "application/vnd.jupyter.widget-view+json": {
       "model_id": "9f823050fea143d7998316083585e3c7",
       "version_major": 2,
       "version_minor": 0
      },
      "text/plain": [
       "  0%|          | 0/32 [00:00<?, ?it/s]"
      ]
     },
     "metadata": {},
     "output_type": "display_data"
    },
    {
     "name": "stdout",
     "output_type": "stream",
     "text": [
      "{'eval_loss': 1.4492348432540894, 'eval_accuracy': 0.33, 'eval_f1': 0.16425563909774438, 'eval_runtime': 8.8616, 'eval_samples_per_second': 112.847, 'eval_steps_per_second': 3.611, 'epoch': 1.0}\n",
      "{'loss': 1.4707, 'grad_norm': 2.6949541568756104, 'learning_rate': 7.37429603106801e-07, 'epoch': 2.0}\n"
     ]
    },
    {
     "data": {
      "application/vnd.jupyter.widget-view+json": {
       "model_id": "f6d9eae15e464be78c6991a458276763",
       "version_major": 2,
       "version_minor": 0
      },
      "text/plain": [
       "  0%|          | 0/32 [00:00<?, ?it/s]"
      ]
     },
     "metadata": {},
     "output_type": "display_data"
    },
    {
     "name": "stdout",
     "output_type": "stream",
     "text": [
      "{'eval_loss': 1.4286454916000366, 'eval_accuracy': 0.345, 'eval_f1': 0.2089147175770298, 'eval_runtime': 8.7806, 'eval_samples_per_second': 113.888, 'eval_steps_per_second': 3.644, 'epoch': 2.0}\n"
     ]
    },
    {
     "data": {
      "application/vnd.jupyter.widget-view+json": {
       "model_id": "9b2b9460a66f4adb9ca7eacd5f2878fa",
       "version_major": 2,
       "version_minor": 0
      },
      "text/plain": [
       "  0%|          | 0/32 [00:00<?, ?it/s]"
      ]
     },
     "metadata": {},
     "output_type": "display_data"
    },
    {
     "name": "stdout",
     "output_type": "stream",
     "text": [
      "{'eval_loss': 1.4219679832458496, 'eval_accuracy': 0.349, 'eval_f1': 0.2264393475098276, 'eval_runtime': 8.8374, 'eval_samples_per_second': 113.155, 'eval_steps_per_second': 3.621, 'epoch': 3.0}\n",
      "{'train_runtime': 388.0916, 'train_samples_per_second': 30.921, 'train_steps_per_second': 1.933, 'train_loss': 1.4538497721354167, 'epoch': 3.0}\n"
     ]
    },
    {
     "data": {
      "application/vnd.jupyter.widget-view+json": {
       "model_id": "8914bf744bd74bb0a5281295d0db7250",
       "version_major": 2,
       "version_minor": 0
      },
      "text/plain": [
       "  0%|          | 0/32 [00:00<?, ?it/s]"
      ]
     },
     "metadata": {},
     "output_type": "display_data"
    },
    {
     "name": "stderr",
     "output_type": "stream",
     "text": [
      "[I 2025-04-16 19:47:35,911] Trial 2 finished with value: 0.349 and parameters: {'learning_rate': 2.212288809320403e-06, 'per_device_train_batch_size': 16, 'num_train_epochs': 3}. Best is trial 2 with value: 0.349.\n",
      "/Users/devishi/anaconda3/envs/fyp_clean/lib/python3.11/site-packages/huggingface_hub/file_download.py:896: FutureWarning: `resume_download` is deprecated and will be removed in version 1.0.0. Downloads always resume when possible. If you want to force a new download, use `force_download=True`.\n",
      "  warnings.warn(\n",
      "Some weights of DistilBertForSequenceClassification were not initialized from the model checkpoint at distilbert-base-uncased and are newly initialized: ['classifier.bias', 'classifier.weight', 'pre_classifier.bias', 'pre_classifier.weight']\n",
      "You should probably TRAIN this model on a down-stream task to be able to use it for predictions and inference.\n",
      "Some weights of DistilBertForSequenceClassification were not initialized from the model checkpoint at distilbert-base-uncased and are newly initialized: ['classifier.bias', 'classifier.weight', 'pre_classifier.bias', 'pre_classifier.weight']\n",
      "You should probably TRAIN this model on a down-stream task to be able to use it for predictions and inference.\n"
     ]
    },
    {
     "data": {
      "application/vnd.jupyter.widget-view+json": {
       "model_id": "5cca970505b64e1285761966da35fbb5",
       "version_major": 2,
       "version_minor": 0
      },
      "text/plain": [
       "  0%|          | 0/250 [00:00<?, ?it/s]"
      ]
     },
     "metadata": {},
     "output_type": "display_data"
    },
    {
     "data": {
      "application/vnd.jupyter.widget-view+json": {
       "model_id": "19c3b091df0d4cdb976b2438f9f5be5d",
       "version_major": 2,
       "version_minor": 0
      },
      "text/plain": [
       "  0%|          | 0/32 [00:00<?, ?it/s]"
      ]
     },
     "metadata": {},
     "output_type": "display_data"
    },
    {
     "name": "stdout",
     "output_type": "stream",
     "text": [
      "{'eval_loss': 1.421236276626587, 'eval_accuracy': 0.343, 'eval_f1': 0.2736767812911887, 'eval_runtime': 8.8276, 'eval_samples_per_second': 113.281, 'eval_steps_per_second': 3.625, 'epoch': 1.0}\n"
     ]
    },
    {
     "data": {
      "application/vnd.jupyter.widget-view+json": {
       "model_id": "ca3c63432b8a47d3a19241874c096f3e",
       "version_major": 2,
       "version_minor": 0
      },
      "text/plain": [
       "  0%|          | 0/32 [00:00<?, ?it/s]"
      ]
     },
     "metadata": {},
     "output_type": "display_data"
    },
    {
     "name": "stdout",
     "output_type": "stream",
     "text": [
      "{'eval_loss': 1.386212944984436, 'eval_accuracy': 0.361, 'eval_f1': 0.302638923780135, 'eval_runtime': 8.7974, 'eval_samples_per_second': 113.67, 'eval_steps_per_second': 3.637, 'epoch': 2.0}\n",
      "{'train_runtime': 245.8958, 'train_samples_per_second': 32.534, 'train_steps_per_second': 1.017, 'train_loss': 1.42537548828125, 'epoch': 2.0}\n"
     ]
    },
    {
     "data": {
      "application/vnd.jupyter.widget-view+json": {
       "model_id": "f3d2a156b6794499b33293fb992a6b1e",
       "version_major": 2,
       "version_minor": 0
      },
      "text/plain": [
       "  0%|          | 0/32 [00:00<?, ?it/s]"
      ]
     },
     "metadata": {},
     "output_type": "display_data"
    },
    {
     "name": "stderr",
     "output_type": "stream",
     "text": [
      "[I 2025-04-16 19:51:51,758] Trial 3 finished with value: 0.361 and parameters: {'learning_rate': 8.29474094783031e-06, 'per_device_train_batch_size': 32, 'num_train_epochs': 2}. Best is trial 3 with value: 0.361.\n",
      "/Users/devishi/anaconda3/envs/fyp_clean/lib/python3.11/site-packages/huggingface_hub/file_download.py:896: FutureWarning: `resume_download` is deprecated and will be removed in version 1.0.0. Downloads always resume when possible. If you want to force a new download, use `force_download=True`.\n",
      "  warnings.warn(\n",
      "Some weights of DistilBertForSequenceClassification were not initialized from the model checkpoint at distilbert-base-uncased and are newly initialized: ['classifier.bias', 'classifier.weight', 'pre_classifier.bias', 'pre_classifier.weight']\n",
      "You should probably TRAIN this model on a down-stream task to be able to use it for predictions and inference.\n",
      "Some weights of DistilBertForSequenceClassification were not initialized from the model checkpoint at distilbert-base-uncased and are newly initialized: ['classifier.bias', 'classifier.weight', 'pre_classifier.bias', 'pre_classifier.weight']\n",
      "You should probably TRAIN this model on a down-stream task to be able to use it for predictions and inference.\n"
     ]
    },
    {
     "data": {
      "application/vnd.jupyter.widget-view+json": {
       "model_id": "c709abd8e7974f05b45dec72c147c749",
       "version_major": 2,
       "version_minor": 0
      },
      "text/plain": [
       "  0%|          | 0/500 [00:00<?, ?it/s]"
      ]
     },
     "metadata": {},
     "output_type": "display_data"
    },
    {
     "data": {
      "application/vnd.jupyter.widget-view+json": {
       "model_id": "4fed0642fafa4f27875a22f2c71db511",
       "version_major": 2,
       "version_minor": 0
      },
      "text/plain": [
       "  0%|          | 0/32 [00:00<?, ?it/s]"
      ]
     },
     "metadata": {},
     "output_type": "display_data"
    },
    {
     "name": "stdout",
     "output_type": "stream",
     "text": [
      "{'eval_loss': 1.2785074710845947, 'eval_accuracy': 0.427, 'eval_f1': 0.40701391118031877, 'eval_runtime': 9.1458, 'eval_samples_per_second': 109.34, 'eval_steps_per_second': 3.499, 'epoch': 1.0}\n",
      "{'loss': 1.2969, 'grad_norm': 7.209370136260986, 'learning_rate': 0.0, 'epoch': 2.0}\n"
     ]
    },
    {
     "data": {
      "application/vnd.jupyter.widget-view+json": {
       "model_id": "b7cc44b611074bf79c94474b80b60fbb",
       "version_major": 2,
       "version_minor": 0
      },
      "text/plain": [
       "  0%|          | 0/32 [00:00<?, ?it/s]"
      ]
     },
     "metadata": {},
     "output_type": "display_data"
    },
    {
     "name": "stdout",
     "output_type": "stream",
     "text": [
      "{'eval_loss': 1.2649502754211426, 'eval_accuracy': 0.444, 'eval_f1': 0.42483403899709526, 'eval_runtime': 9.008, 'eval_samples_per_second': 111.012, 'eval_steps_per_second': 3.552, 'epoch': 2.0}\n",
      "{'train_runtime': 256.2528, 'train_samples_per_second': 31.219, 'train_steps_per_second': 1.951, 'train_loss': 1.2969306640625, 'epoch': 2.0}\n"
     ]
    },
    {
     "data": {
      "application/vnd.jupyter.widget-view+json": {
       "model_id": "e0587fd5573343459be8f31dd9660d33",
       "version_major": 2,
       "version_minor": 0
      },
      "text/plain": [
       "  0%|          | 0/32 [00:00<?, ?it/s]"
      ]
     },
     "metadata": {},
     "output_type": "display_data"
    },
    {
     "name": "stderr",
     "output_type": "stream",
     "text": [
      "[I 2025-04-16 19:56:18,285] Trial 4 finished with value: 0.444 and parameters: {'learning_rate': 2.7873214607801323e-05, 'per_device_train_batch_size': 16, 'num_train_epochs': 2}. Best is trial 4 with value: 0.444.\n",
      "/Users/devishi/anaconda3/envs/fyp_clean/lib/python3.11/site-packages/huggingface_hub/file_download.py:896: FutureWarning: `resume_download` is deprecated and will be removed in version 1.0.0. Downloads always resume when possible. If you want to force a new download, use `force_download=True`.\n",
      "  warnings.warn(\n",
      "Some weights of DistilBertForSequenceClassification were not initialized from the model checkpoint at distilbert-base-uncased and are newly initialized: ['classifier.bias', 'classifier.weight', 'pre_classifier.bias', 'pre_classifier.weight']\n",
      "You should probably TRAIN this model on a down-stream task to be able to use it for predictions and inference.\n",
      "Some weights of DistilBertForSequenceClassification were not initialized from the model checkpoint at distilbert-base-uncased and are newly initialized: ['classifier.bias', 'classifier.weight', 'pre_classifier.bias', 'pre_classifier.weight']\n",
      "You should probably TRAIN this model on a down-stream task to be able to use it for predictions and inference.\n"
     ]
    },
    {
     "data": {
      "application/vnd.jupyter.widget-view+json": {
       "model_id": "76ac6c4ea4b942049a510d001230d00c",
       "version_major": 2,
       "version_minor": 0
      },
      "text/plain": [
       "  0%|          | 0/375 [00:00<?, ?it/s]"
      ]
     },
     "metadata": {},
     "output_type": "display_data"
    },
    {
     "data": {
      "application/vnd.jupyter.widget-view+json": {
       "model_id": "c215a470c2c244288fc727bef1c4f1a6",
       "version_major": 2,
       "version_minor": 0
      },
      "text/plain": [
       "  0%|          | 0/32 [00:00<?, ?it/s]"
      ]
     },
     "metadata": {},
     "output_type": "display_data"
    },
    {
     "name": "stdout",
     "output_type": "stream",
     "text": [
      "{'eval_loss': 1.342343807220459, 'eval_accuracy': 0.398, 'eval_f1': 0.35907524818222614, 'eval_runtime': 8.8708, 'eval_samples_per_second': 112.73, 'eval_steps_per_second': 3.607, 'epoch': 1.0}\n"
     ]
    },
    {
     "data": {
      "application/vnd.jupyter.widget-view+json": {
       "model_id": "397c76f78df241fcb636307cbe102c27",
       "version_major": 2,
       "version_minor": 0
      },
      "text/plain": [
       "  0%|          | 0/32 [00:00<?, ?it/s]"
      ]
     },
     "metadata": {},
     "output_type": "display_data"
    },
    {
     "name": "stdout",
     "output_type": "stream",
     "text": [
      "{'eval_loss': 1.2808047533035278, 'eval_accuracy': 0.427, 'eval_f1': 0.40080861902118925, 'eval_runtime': 8.9895, 'eval_samples_per_second': 111.24, 'eval_steps_per_second': 3.56, 'epoch': 2.0}\n"
     ]
    },
    {
     "data": {
      "application/vnd.jupyter.widget-view+json": {
       "model_id": "29ca26bd2f51442bae815fb80983e606",
       "version_major": 2,
       "version_minor": 0
      },
      "text/plain": [
       "  0%|          | 0/32 [00:00<?, ?it/s]"
      ]
     },
     "metadata": {},
     "output_type": "display_data"
    },
    {
     "name": "stdout",
     "output_type": "stream",
     "text": [
      "{'eval_loss': 1.274294137954712, 'eval_accuracy': 0.432, 'eval_f1': 0.41406287513071494, 'eval_runtime': 8.8123, 'eval_samples_per_second': 113.478, 'eval_steps_per_second': 3.631, 'epoch': 3.0}\n",
      "{'train_runtime': 370.788, 'train_samples_per_second': 32.364, 'train_steps_per_second': 1.011, 'train_loss': 1.3083909505208333, 'epoch': 3.0}\n"
     ]
    },
    {
     "data": {
      "application/vnd.jupyter.widget-view+json": {
       "model_id": "f89e745b52564d85a1d9a78d2455fba9",
       "version_major": 2,
       "version_minor": 0
      },
      "text/plain": [
       "  0%|          | 0/32 [00:00<?, ?it/s]"
      ]
     },
     "metadata": {},
     "output_type": "display_data"
    },
    {
     "name": "stderr",
     "output_type": "stream",
     "text": [
      "[I 2025-04-16 20:02:39,067] Trial 5 finished with value: 0.432 and parameters: {'learning_rate': 1.8853002676588857e-05, 'per_device_train_batch_size': 32, 'num_train_epochs': 3}. Best is trial 4 with value: 0.444.\n",
      "/Users/devishi/anaconda3/envs/fyp_clean/lib/python3.11/site-packages/huggingface_hub/file_download.py:896: FutureWarning: `resume_download` is deprecated and will be removed in version 1.0.0. Downloads always resume when possible. If you want to force a new download, use `force_download=True`.\n",
      "  warnings.warn(\n",
      "Some weights of DistilBertForSequenceClassification were not initialized from the model checkpoint at distilbert-base-uncased and are newly initialized: ['classifier.bias', 'classifier.weight', 'pre_classifier.bias', 'pre_classifier.weight']\n",
      "You should probably TRAIN this model on a down-stream task to be able to use it for predictions and inference.\n",
      "Some weights of DistilBertForSequenceClassification were not initialized from the model checkpoint at distilbert-base-uncased and are newly initialized: ['classifier.bias', 'classifier.weight', 'pre_classifier.bias', 'pre_classifier.weight']\n",
      "You should probably TRAIN this model on a down-stream task to be able to use it for predictions and inference.\n"
     ]
    },
    {
     "data": {
      "application/vnd.jupyter.widget-view+json": {
       "model_id": "88737189760a412e9c37b47ee14ac53b",
       "version_major": 2,
       "version_minor": 0
      },
      "text/plain": [
       "  0%|          | 0/375 [00:00<?, ?it/s]"
      ]
     },
     "metadata": {},
     "output_type": "display_data"
    },
    {
     "data": {
      "application/vnd.jupyter.widget-view+json": {
       "model_id": "6ad4f72b28f042d1bc846592ab07be88",
       "version_major": 2,
       "version_minor": 0
      },
      "text/plain": [
       "  0%|          | 0/32 [00:00<?, ?it/s]"
      ]
     },
     "metadata": {},
     "output_type": "display_data"
    },
    {
     "name": "stdout",
     "output_type": "stream",
     "text": [
      "{'eval_loss': 1.320594072341919, 'eval_accuracy': 0.412, 'eval_f1': 0.3861220504547679, 'eval_runtime': 8.7596, 'eval_samples_per_second': 114.161, 'eval_steps_per_second': 3.653, 'epoch': 1.0}\n"
     ]
    },
    {
     "data": {
      "application/vnd.jupyter.widget-view+json": {
       "model_id": "b5616abb651a4f9b962628e546dca9c7",
       "version_major": 2,
       "version_minor": 0
      },
      "text/plain": [
       "  0%|          | 0/32 [00:00<?, ?it/s]"
      ]
     },
     "metadata": {},
     "output_type": "display_data"
    },
    {
     "name": "stdout",
     "output_type": "stream",
     "text": [
      "{'eval_loss': 1.2566897869110107, 'eval_accuracy': 0.439, 'eval_f1': 0.41972943125579343, 'eval_runtime': 8.798, 'eval_samples_per_second': 113.662, 'eval_steps_per_second': 3.637, 'epoch': 2.0}\n"
     ]
    },
    {
     "data": {
      "application/vnd.jupyter.widget-view+json": {
       "model_id": "d4c6b0e2e49647b3b14f6b7601b28077",
       "version_major": 2,
       "version_minor": 0
      },
      "text/plain": [
       "  0%|          | 0/32 [00:00<?, ?it/s]"
      ]
     },
     "metadata": {},
     "output_type": "display_data"
    },
    {
     "name": "stdout",
     "output_type": "stream",
     "text": [
      "{'eval_loss': 1.264265537261963, 'eval_accuracy': 0.44, 'eval_f1': 0.4277791657881706, 'eval_runtime': 8.7702, 'eval_samples_per_second': 114.023, 'eval_steps_per_second': 3.649, 'epoch': 3.0}\n",
      "{'train_runtime': 370.9716, 'train_samples_per_second': 32.347, 'train_steps_per_second': 1.011, 'train_loss': 1.2457550455729167, 'epoch': 3.0}\n"
     ]
    },
    {
     "data": {
      "application/vnd.jupyter.widget-view+json": {
       "model_id": "c777e9e32aaa4993b6b2dbdcb982bbed",
       "version_major": 2,
       "version_minor": 0
      },
      "text/plain": [
       "  0%|          | 0/32 [00:00<?, ?it/s]"
      ]
     },
     "metadata": {},
     "output_type": "display_data"
    },
    {
     "name": "stderr",
     "output_type": "stream",
     "text": [
      "[I 2025-04-16 20:09:00,222] Trial 6 finished with value: 0.44 and parameters: {'learning_rate': 4.0743100291661057e-05, 'per_device_train_batch_size': 32, 'num_train_epochs': 3}. Best is trial 4 with value: 0.444.\n",
      "/Users/devishi/anaconda3/envs/fyp_clean/lib/python3.11/site-packages/huggingface_hub/file_download.py:896: FutureWarning: `resume_download` is deprecated and will be removed in version 1.0.0. Downloads always resume when possible. If you want to force a new download, use `force_download=True`.\n",
      "  warnings.warn(\n",
      "Some weights of DistilBertForSequenceClassification were not initialized from the model checkpoint at distilbert-base-uncased and are newly initialized: ['classifier.bias', 'classifier.weight', 'pre_classifier.bias', 'pre_classifier.weight']\n",
      "You should probably TRAIN this model on a down-stream task to be able to use it for predictions and inference.\n",
      "Some weights of DistilBertForSequenceClassification were not initialized from the model checkpoint at distilbert-base-uncased and are newly initialized: ['classifier.bias', 'classifier.weight', 'pre_classifier.bias', 'pre_classifier.weight']\n",
      "You should probably TRAIN this model on a down-stream task to be able to use it for predictions and inference.\n"
     ]
    },
    {
     "data": {
      "application/vnd.jupyter.widget-view+json": {
       "model_id": "90fa38c0d2574a43b0d62d8d3c24dc1e",
       "version_major": 2,
       "version_minor": 0
      },
      "text/plain": [
       "  0%|          | 0/750 [00:00<?, ?it/s]"
      ]
     },
     "metadata": {},
     "output_type": "display_data"
    },
    {
     "data": {
      "application/vnd.jupyter.widget-view+json": {
       "model_id": "0d4a9043855f48a292fceeec248320d6",
       "version_major": 2,
       "version_minor": 0
      },
      "text/plain": [
       "  0%|          | 0/32 [00:00<?, ?it/s]"
      ]
     },
     "metadata": {},
     "output_type": "display_data"
    },
    {
     "name": "stdout",
     "output_type": "stream",
     "text": [
      "{'eval_loss': 1.4821220636367798, 'eval_accuracy': 0.331, 'eval_f1': 0.1646296018031555, 'eval_runtime': 9.058, 'eval_samples_per_second': 110.399, 'eval_steps_per_second': 3.533, 'epoch': 1.0}\n",
      "{'loss': 1.5026, 'grad_norm': 2.398989677429199, 'learning_rate': 3.8829694361321234e-07, 'epoch': 2.0}\n"
     ]
    },
    {
     "data": {
      "application/vnd.jupyter.widget-view+json": {
       "model_id": "de06d37e2c004a659d9e88594f3bc006",
       "version_major": 2,
       "version_minor": 0
      },
      "text/plain": [
       "  0%|          | 0/32 [00:00<?, ?it/s]"
      ]
     },
     "metadata": {},
     "output_type": "display_data"
    },
    {
     "name": "stdout",
     "output_type": "stream",
     "text": [
      "{'eval_loss': 1.4549187421798706, 'eval_accuracy': 0.331, 'eval_f1': 0.1646296018031555, 'eval_runtime': 9.0873, 'eval_samples_per_second': 110.044, 'eval_steps_per_second': 3.521, 'epoch': 2.0}\n"
     ]
    },
    {
     "data": {
      "application/vnd.jupyter.widget-view+json": {
       "model_id": "9a35f123084c48cda586267ea34cdfdc",
       "version_major": 2,
       "version_minor": 0
      },
      "text/plain": [
       "  0%|          | 0/32 [00:00<?, ?it/s]"
      ]
     },
     "metadata": {},
     "output_type": "display_data"
    },
    {
     "name": "stdout",
     "output_type": "stream",
     "text": [
      "{'eval_loss': 1.449695110321045, 'eval_accuracy': 0.33, 'eval_f1': 0.16437923250564332, 'eval_runtime': 9.1872, 'eval_samples_per_second': 108.847, 'eval_steps_per_second': 3.483, 'epoch': 3.0}\n",
      "{'train_runtime': 381.6373, 'train_samples_per_second': 31.443, 'train_steps_per_second': 1.965, 'train_loss': 1.486143798828125, 'epoch': 3.0}\n"
     ]
    },
    {
     "data": {
      "application/vnd.jupyter.widget-view+json": {
       "model_id": "f047676b4529498eb650ce2043bac66e",
       "version_major": 2,
       "version_minor": 0
      },
      "text/plain": [
       "  0%|          | 0/32 [00:00<?, ?it/s]"
      ]
     },
     "metadata": {},
     "output_type": "display_data"
    },
    {
     "name": "stderr",
     "output_type": "stream",
     "text": [
      "[I 2025-04-16 20:15:32,110] Trial 7 finished with value: 0.33 and parameters: {'learning_rate': 1.1648908308396371e-06, 'per_device_train_batch_size': 16, 'num_train_epochs': 3}. Best is trial 4 with value: 0.444.\n",
      "/Users/devishi/anaconda3/envs/fyp_clean/lib/python3.11/site-packages/huggingface_hub/file_download.py:896: FutureWarning: `resume_download` is deprecated and will be removed in version 1.0.0. Downloads always resume when possible. If you want to force a new download, use `force_download=True`.\n",
      "  warnings.warn(\n",
      "Some weights of DistilBertForSequenceClassification were not initialized from the model checkpoint at distilbert-base-uncased and are newly initialized: ['classifier.bias', 'classifier.weight', 'pre_classifier.bias', 'pre_classifier.weight']\n",
      "You should probably TRAIN this model on a down-stream task to be able to use it for predictions and inference.\n",
      "Some weights of DistilBertForSequenceClassification were not initialized from the model checkpoint at distilbert-base-uncased and are newly initialized: ['classifier.bias', 'classifier.weight', 'pre_classifier.bias', 'pre_classifier.weight']\n",
      "You should probably TRAIN this model on a down-stream task to be able to use it for predictions and inference.\n"
     ]
    },
    {
     "data": {
      "application/vnd.jupyter.widget-view+json": {
       "model_id": "95886acad7ae408881a690598c12285f",
       "version_major": 2,
       "version_minor": 0
      },
      "text/plain": [
       "  0%|          | 0/1000 [00:00<?, ?it/s]"
      ]
     },
     "metadata": {},
     "output_type": "display_data"
    },
    {
     "data": {
      "application/vnd.jupyter.widget-view+json": {
       "model_id": "d1e98e6ca6434ef29bdc8bd47b9f5e5c",
       "version_major": 2,
       "version_minor": 0
      },
      "text/plain": [
       "  0%|          | 0/32 [00:00<?, ?it/s]"
      ]
     },
     "metadata": {},
     "output_type": "display_data"
    },
    {
     "name": "stdout",
     "output_type": "stream",
     "text": [
      "{'eval_loss': 1.3777265548706055, 'eval_accuracy': 0.374, 'eval_f1': 0.31453499739563334, 'eval_runtime': 9.4097, 'eval_samples_per_second': 106.273, 'eval_steps_per_second': 3.401, 'epoch': 1.0}\n",
      "{'loss': 1.3812, 'grad_norm': 6.085855007171631, 'learning_rate': 3.7316746364377946e-06, 'epoch': 2.0}\n"
     ]
    },
    {
     "data": {
      "application/vnd.jupyter.widget-view+json": {
       "model_id": "97612c149b504658930902f7dc56e97a",
       "version_major": 2,
       "version_minor": 0
      },
      "text/plain": [
       "  0%|          | 0/32 [00:00<?, ?it/s]"
      ]
     },
     "metadata": {},
     "output_type": "display_data"
    },
    {
     "name": "stdout",
     "output_type": "stream",
     "text": [
      "{'eval_loss': 1.299191951751709, 'eval_accuracy': 0.41, 'eval_f1': 0.38127619145904146, 'eval_runtime': 9.2279, 'eval_samples_per_second': 108.367, 'eval_steps_per_second': 3.468, 'epoch': 2.0}\n"
     ]
    },
    {
     "data": {
      "application/vnd.jupyter.widget-view+json": {
       "model_id": "2a8f02ddf7644ac79d5298707ae9e0bf",
       "version_major": 2,
       "version_minor": 0
      },
      "text/plain": [
       "  0%|          | 0/32 [00:00<?, ?it/s]"
      ]
     },
     "metadata": {},
     "output_type": "display_data"
    },
    {
     "name": "stdout",
     "output_type": "stream",
     "text": [
      "{'eval_loss': 1.2794809341430664, 'eval_accuracy': 0.429, 'eval_f1': 0.4079564699956932, 'eval_runtime': 9.1866, 'eval_samples_per_second': 108.855, 'eval_steps_per_second': 3.483, 'epoch': 3.0}\n",
      "{'loss': 1.2371, 'grad_norm': 6.47942590713501, 'learning_rate': 0.0, 'epoch': 4.0}\n"
     ]
    },
    {
     "data": {
      "application/vnd.jupyter.widget-view+json": {
       "model_id": "e2249f3c43ce4d76af80acb2ea47c658",
       "version_major": 2,
       "version_minor": 0
      },
      "text/plain": [
       "  0%|          | 0/32 [00:00<?, ?it/s]"
      ]
     },
     "metadata": {},
     "output_type": "display_data"
    },
    {
     "name": "stdout",
     "output_type": "stream",
     "text": [
      "{'eval_loss': 1.2763489484786987, 'eval_accuracy': 0.42, 'eval_f1': 0.3995478404046145, 'eval_runtime': 9.3686, 'eval_samples_per_second': 106.74, 'eval_steps_per_second': 3.416, 'epoch': 4.0}\n",
      "{'train_runtime': 517.6715, 'train_samples_per_second': 30.908, 'train_steps_per_second': 1.932, 'train_loss': 1.309146728515625, 'epoch': 4.0}\n"
     ]
    },
    {
     "data": {
      "application/vnd.jupyter.widget-view+json": {
       "model_id": "1c9321387c1b43d2b474aee5b7b1aac0",
       "version_major": 2,
       "version_minor": 0
      },
      "text/plain": [
       "  0%|          | 0/32 [00:00<?, ?it/s]"
      ]
     },
     "metadata": {},
     "output_type": "display_data"
    },
    {
     "name": "stderr",
     "output_type": "stream",
     "text": [
      "[I 2025-04-16 20:24:20,001] Trial 8 finished with value: 0.42 and parameters: {'learning_rate': 7.463349272875589e-06, 'per_device_train_batch_size': 16, 'num_train_epochs': 4}. Best is trial 4 with value: 0.444.\n",
      "/Users/devishi/anaconda3/envs/fyp_clean/lib/python3.11/site-packages/huggingface_hub/file_download.py:896: FutureWarning: `resume_download` is deprecated and will be removed in version 1.0.0. Downloads always resume when possible. If you want to force a new download, use `force_download=True`.\n",
      "  warnings.warn(\n",
      "Some weights of DistilBertForSequenceClassification were not initialized from the model checkpoint at distilbert-base-uncased and are newly initialized: ['classifier.bias', 'classifier.weight', 'pre_classifier.bias', 'pre_classifier.weight']\n",
      "You should probably TRAIN this model on a down-stream task to be able to use it for predictions and inference.\n",
      "Some weights of DistilBertForSequenceClassification were not initialized from the model checkpoint at distilbert-base-uncased and are newly initialized: ['classifier.bias', 'classifier.weight', 'pre_classifier.bias', 'pre_classifier.weight']\n",
      "You should probably TRAIN this model on a down-stream task to be able to use it for predictions and inference.\n"
     ]
    },
    {
     "data": {
      "application/vnd.jupyter.widget-view+json": {
       "model_id": "a85a6a76e22c46b8990a1dec077c0ae5",
       "version_major": 2,
       "version_minor": 0
      },
      "text/plain": [
       "  0%|          | 0/500 [00:00<?, ?it/s]"
      ]
     },
     "metadata": {},
     "output_type": "display_data"
    },
    {
     "data": {
      "application/vnd.jupyter.widget-view+json": {
       "model_id": "e69849fec62745298bccdd9b768d2336",
       "version_major": 2,
       "version_minor": 0
      },
      "text/plain": [
       "  0%|          | 0/32 [00:00<?, ?it/s]"
      ]
     },
     "metadata": {},
     "output_type": "display_data"
    },
    {
     "name": "stdout",
     "output_type": "stream",
     "text": [
      "{'eval_loss': 1.4295134544372559, 'eval_accuracy': 0.336, 'eval_f1': 0.18198311419745208, 'eval_runtime': 9.2864, 'eval_samples_per_second': 107.685, 'eval_steps_per_second': 3.446, 'epoch': 1.0}\n",
      "{'loss': 1.4443, 'grad_norm': 3.278661012649536, 'learning_rate': 0.0, 'epoch': 2.0}\n"
     ]
    },
    {
     "data": {
      "application/vnd.jupyter.widget-view+json": {
       "model_id": "0841edccf1c64dc0ad4a5b55714a602a",
       "version_major": 2,
       "version_minor": 0
      },
      "text/plain": [
       "  0%|          | 0/32 [00:00<?, ?it/s]"
      ]
     },
     "metadata": {},
     "output_type": "display_data"
    },
    {
     "name": "stdout",
     "output_type": "stream",
     "text": [
      "{'eval_loss': 1.4098538160324097, 'eval_accuracy': 0.351, 'eval_f1': 0.2409198168230925, 'eval_runtime': 9.0416, 'eval_samples_per_second': 110.599, 'eval_steps_per_second': 3.539, 'epoch': 2.0}\n",
      "{'train_runtime': 259.6946, 'train_samples_per_second': 30.805, 'train_steps_per_second': 1.925, 'train_loss': 1.444307861328125, 'epoch': 2.0}\n"
     ]
    },
    {
     "data": {
      "application/vnd.jupyter.widget-view+json": {
       "model_id": "baa3c11e12ea49d89a0cf73cc40ce988",
       "version_major": 2,
       "version_minor": 0
      },
      "text/plain": [
       "  0%|          | 0/32 [00:00<?, ?it/s]"
      ]
     },
     "metadata": {},
     "output_type": "display_data"
    },
    {
     "name": "stderr",
     "output_type": "stream",
     "text": [
      "[I 2025-04-16 20:28:49,841] Trial 9 finished with value: 0.351 and parameters: {'learning_rate': 4.1713084469403376e-06, 'per_device_train_batch_size': 16, 'num_train_epochs': 2}. Best is trial 4 with value: 0.444.\n"
     ]
    },
    {
     "name": "stdout",
     "output_type": "stream",
     "text": [
      "Trials logged → optuna_distilbert_trials.csv\n",
      "Best params: {'learning_rate': 2.7873214607801323e-05, 'per_device_train_batch_size': 16, 'num_train_epochs': 2}\n"
     ]
    }
   ],
   "source": [
    "num_labels = 5 # classes 0-4 for DistilBERT, Rating 1-5\n",
    "\n",
    "def model_init():\n",
    "    return DistilBertForSequenceClassification.from_pretrained(model_name, num_labels=num_labels)\n",
    "\n",
    "trial_results = []\n",
    "\n",
    "# Optuna objective function\n",
    "def objective(trial):\n",
    "    lr    = trial.suggest_float(\"learning_rate\", 1e-6, 5e-5, log=True)\n",
    "    bs    = trial.suggest_categorical(\"per_device_train_batch_size\", [16,32])\n",
    "    epochs= trial.suggest_int(\"num_train_epochs\", 2, 4)\n",
    "\n",
    "    args = TrainingArguments(\n",
    "      output_dir=\"optuna_results\",\n",
    "      evaluation_strategy=\"epoch\",\n",
    "      save_strategy=\"no\",\n",
    "      per_device_train_batch_size=bs,\n",
    "      per_device_eval_batch_size=32,\n",
    "      learning_rate=lr,\n",
    "      num_train_epochs=epochs,\n",
    "      report_to=\"none\"\n",
    "    )\n",
    "    trainer = Trainer(\n",
    "      model_init=model_init,\n",
    "      args=args,\n",
    "      train_dataset=train_dataset,\n",
    "      eval_dataset=test_dataset,\n",
    "      compute_metrics=compute_metrics\n",
    "    )\n",
    "\n",
    "    trainer.train()\n",
    "\n",
    "    metrics = trainer.evaluate()  # returns {\"eval_loss\", \"eval_accuracy\", \"eval_f1\"}\n",
    "\n",
    "    trial_results.append({\n",
    "      \"learning_rate\": lr,\n",
    "      \"batch_size\":    bs,\n",
    "      \"num_train_epochs\": epochs,\n",
    "      \"accuracy\":      metrics[\"eval_accuracy\"],\n",
    "      \"f1\":            metrics[\"eval_f1\"]\n",
    "    })\n",
    "    return metrics[\"eval_accuracy\"]\n",
    "\n",
    "# Run the study\n",
    "study = optuna.create_study(direction=\"maximize\")\n",
    "study.optimize(objective, n_trials=10)\n",
    "\n",
    "# Save every trial\n",
    "pd.DataFrame(trial_results)\\\n",
    "  .to_csv(\"optuna_distilbert_trials.csv\", index=False)\n",
    "print(\"Trials logged → optuna_distilbert_trials.csv\")\n",
    "\n",
    "# Best hyperparameters\n",
    "best_params = study.best_params\n",
    "print(\"Best params:\", best_params)"
   ]
  },
  {
   "cell_type": "markdown",
   "id": "1eee41ea",
   "metadata": {},
   "source": [
    "### Inspect optuna tuning "
   ]
  },
  {
   "cell_type": "code",
   "execution_count": 6,
   "id": "e223c234",
   "metadata": {},
   "outputs": [
    {
     "data": {
      "text/html": [
       "<div>\n",
       "<style scoped>\n",
       "    .dataframe tbody tr th:only-of-type {\n",
       "        vertical-align: middle;\n",
       "    }\n",
       "\n",
       "    .dataframe tbody tr th {\n",
       "        vertical-align: top;\n",
       "    }\n",
       "\n",
       "    .dataframe thead th {\n",
       "        text-align: right;\n",
       "    }\n",
       "</style>\n",
       "<table border=\"1\" class=\"dataframe\">\n",
       "  <thead>\n",
       "    <tr style=\"text-align: right;\">\n",
       "      <th></th>\n",
       "      <th>learning_rate</th>\n",
       "      <th>batch_size</th>\n",
       "      <th>num_train_epochs</th>\n",
       "      <th>accuracy</th>\n",
       "      <th>f1</th>\n",
       "    </tr>\n",
       "  </thead>\n",
       "  <tbody>\n",
       "    <tr>\n",
       "      <th>0</th>\n",
       "      <td>0.000003</td>\n",
       "      <td>16</td>\n",
       "      <td>2</td>\n",
       "      <td>0.336</td>\n",
       "      <td>0.187924</td>\n",
       "    </tr>\n",
       "    <tr>\n",
       "      <th>1</th>\n",
       "      <td>0.000003</td>\n",
       "      <td>16</td>\n",
       "      <td>2</td>\n",
       "      <td>0.338</td>\n",
       "      <td>0.192937</td>\n",
       "    </tr>\n",
       "    <tr>\n",
       "      <th>2</th>\n",
       "      <td>0.000002</td>\n",
       "      <td>16</td>\n",
       "      <td>3</td>\n",
       "      <td>0.349</td>\n",
       "      <td>0.226439</td>\n",
       "    </tr>\n",
       "    <tr>\n",
       "      <th>3</th>\n",
       "      <td>0.000008</td>\n",
       "      <td>32</td>\n",
       "      <td>2</td>\n",
       "      <td>0.361</td>\n",
       "      <td>0.302639</td>\n",
       "    </tr>\n",
       "    <tr>\n",
       "      <th>4</th>\n",
       "      <td>0.000028</td>\n",
       "      <td>16</td>\n",
       "      <td>2</td>\n",
       "      <td>0.444</td>\n",
       "      <td>0.424834</td>\n",
       "    </tr>\n",
       "  </tbody>\n",
       "</table>\n",
       "</div>"
      ],
      "text/plain": [
       "   learning_rate  batch_size  num_train_epochs  accuracy        f1\n",
       "0       0.000003          16                 2     0.336  0.187924\n",
       "1       0.000003          16                 2     0.338  0.192937\n",
       "2       0.000002          16                 3     0.349  0.226439\n",
       "3       0.000008          32                 2     0.361  0.302639\n",
       "4       0.000028          16                 2     0.444  0.424834"
      ]
     },
     "execution_count": 6,
     "metadata": {},
     "output_type": "execute_result"
    }
   ],
   "source": [
    "df_trials = pd.read_csv(\"optuna_distilbert_trials.csv\")\n",
    "df_trials.head()"
   ]
  },
  {
   "cell_type": "code",
   "execution_count": 7,
   "id": "8ac8dd1a",
   "metadata": {},
   "outputs": [
    {
     "data": {
      "text/html": [
       "<div>\n",
       "<style scoped>\n",
       "    .dataframe tbody tr th:only-of-type {\n",
       "        vertical-align: middle;\n",
       "    }\n",
       "\n",
       "    .dataframe tbody tr th {\n",
       "        vertical-align: top;\n",
       "    }\n",
       "\n",
       "    .dataframe thead th {\n",
       "        text-align: right;\n",
       "    }\n",
       "</style>\n",
       "<table border=\"1\" class=\"dataframe\">\n",
       "  <thead>\n",
       "    <tr style=\"text-align: right;\">\n",
       "      <th></th>\n",
       "      <th>learning_rate</th>\n",
       "      <th>batch_size</th>\n",
       "      <th>num_train_epochs</th>\n",
       "      <th>accuracy</th>\n",
       "      <th>f1</th>\n",
       "    </tr>\n",
       "  </thead>\n",
       "  <tbody>\n",
       "    <tr>\n",
       "      <th>4</th>\n",
       "      <td>0.000028</td>\n",
       "      <td>16</td>\n",
       "      <td>2</td>\n",
       "      <td>0.444</td>\n",
       "      <td>0.424834</td>\n",
       "    </tr>\n",
       "    <tr>\n",
       "      <th>6</th>\n",
       "      <td>0.000041</td>\n",
       "      <td>32</td>\n",
       "      <td>3</td>\n",
       "      <td>0.440</td>\n",
       "      <td>0.427779</td>\n",
       "    </tr>\n",
       "    <tr>\n",
       "      <th>5</th>\n",
       "      <td>0.000019</td>\n",
       "      <td>32</td>\n",
       "      <td>3</td>\n",
       "      <td>0.432</td>\n",
       "      <td>0.414063</td>\n",
       "    </tr>\n",
       "    <tr>\n",
       "      <th>8</th>\n",
       "      <td>0.000007</td>\n",
       "      <td>16</td>\n",
       "      <td>4</td>\n",
       "      <td>0.420</td>\n",
       "      <td>0.399548</td>\n",
       "    </tr>\n",
       "    <tr>\n",
       "      <th>3</th>\n",
       "      <td>0.000008</td>\n",
       "      <td>32</td>\n",
       "      <td>2</td>\n",
       "      <td>0.361</td>\n",
       "      <td>0.302639</td>\n",
       "    </tr>\n",
       "    <tr>\n",
       "      <th>9</th>\n",
       "      <td>0.000004</td>\n",
       "      <td>16</td>\n",
       "      <td>2</td>\n",
       "      <td>0.351</td>\n",
       "      <td>0.240920</td>\n",
       "    </tr>\n",
       "    <tr>\n",
       "      <th>2</th>\n",
       "      <td>0.000002</td>\n",
       "      <td>16</td>\n",
       "      <td>3</td>\n",
       "      <td>0.349</td>\n",
       "      <td>0.226439</td>\n",
       "    </tr>\n",
       "    <tr>\n",
       "      <th>1</th>\n",
       "      <td>0.000003</td>\n",
       "      <td>16</td>\n",
       "      <td>2</td>\n",
       "      <td>0.338</td>\n",
       "      <td>0.192937</td>\n",
       "    </tr>\n",
       "    <tr>\n",
       "      <th>0</th>\n",
       "      <td>0.000003</td>\n",
       "      <td>16</td>\n",
       "      <td>2</td>\n",
       "      <td>0.336</td>\n",
       "      <td>0.187924</td>\n",
       "    </tr>\n",
       "    <tr>\n",
       "      <th>7</th>\n",
       "      <td>0.000001</td>\n",
       "      <td>16</td>\n",
       "      <td>3</td>\n",
       "      <td>0.330</td>\n",
       "      <td>0.164379</td>\n",
       "    </tr>\n",
       "  </tbody>\n",
       "</table>\n",
       "</div>"
      ],
      "text/plain": [
       "   learning_rate  batch_size  num_train_epochs  accuracy        f1\n",
       "4       0.000028          16                 2     0.444  0.424834\n",
       "6       0.000041          32                 3     0.440  0.427779\n",
       "5       0.000019          32                 3     0.432  0.414063\n",
       "8       0.000007          16                 4     0.420  0.399548\n",
       "3       0.000008          32                 2     0.361  0.302639\n",
       "9       0.000004          16                 2     0.351  0.240920\n",
       "2       0.000002          16                 3     0.349  0.226439\n",
       "1       0.000003          16                 2     0.338  0.192937\n",
       "0       0.000003          16                 2     0.336  0.187924\n",
       "7       0.000001          16                 3     0.330  0.164379"
      ]
     },
     "execution_count": 7,
     "metadata": {},
     "output_type": "execute_result"
    }
   ],
   "source": [
    "df_trials.sort_values(by=\"accuracy\", ascending=False).head(10)\n"
   ]
  },
  {
   "cell_type": "code",
   "execution_count": 8,
   "id": "ff57f42d",
   "metadata": {},
   "outputs": [
    {
     "data": {
      "text/html": [
       "<div>\n",
       "<style scoped>\n",
       "    .dataframe tbody tr th:only-of-type {\n",
       "        vertical-align: middle;\n",
       "    }\n",
       "\n",
       "    .dataframe tbody tr th {\n",
       "        vertical-align: top;\n",
       "    }\n",
       "\n",
       "    .dataframe thead th {\n",
       "        text-align: right;\n",
       "    }\n",
       "</style>\n",
       "<table border=\"1\" class=\"dataframe\">\n",
       "  <thead>\n",
       "    <tr style=\"text-align: right;\">\n",
       "      <th></th>\n",
       "      <th>learning_rate</th>\n",
       "      <th>batch_size</th>\n",
       "      <th>num_train_epochs</th>\n",
       "      <th>accuracy</th>\n",
       "      <th>f1</th>\n",
       "    </tr>\n",
       "  </thead>\n",
       "  <tbody>\n",
       "    <tr>\n",
       "      <th>6</th>\n",
       "      <td>0.000041</td>\n",
       "      <td>32</td>\n",
       "      <td>3</td>\n",
       "      <td>0.440</td>\n",
       "      <td>0.427779</td>\n",
       "    </tr>\n",
       "    <tr>\n",
       "      <th>4</th>\n",
       "      <td>0.000028</td>\n",
       "      <td>16</td>\n",
       "      <td>2</td>\n",
       "      <td>0.444</td>\n",
       "      <td>0.424834</td>\n",
       "    </tr>\n",
       "    <tr>\n",
       "      <th>5</th>\n",
       "      <td>0.000019</td>\n",
       "      <td>32</td>\n",
       "      <td>3</td>\n",
       "      <td>0.432</td>\n",
       "      <td>0.414063</td>\n",
       "    </tr>\n",
       "    <tr>\n",
       "      <th>8</th>\n",
       "      <td>0.000007</td>\n",
       "      <td>16</td>\n",
       "      <td>4</td>\n",
       "      <td>0.420</td>\n",
       "      <td>0.399548</td>\n",
       "    </tr>\n",
       "    <tr>\n",
       "      <th>3</th>\n",
       "      <td>0.000008</td>\n",
       "      <td>32</td>\n",
       "      <td>2</td>\n",
       "      <td>0.361</td>\n",
       "      <td>0.302639</td>\n",
       "    </tr>\n",
       "    <tr>\n",
       "      <th>9</th>\n",
       "      <td>0.000004</td>\n",
       "      <td>16</td>\n",
       "      <td>2</td>\n",
       "      <td>0.351</td>\n",
       "      <td>0.240920</td>\n",
       "    </tr>\n",
       "    <tr>\n",
       "      <th>2</th>\n",
       "      <td>0.000002</td>\n",
       "      <td>16</td>\n",
       "      <td>3</td>\n",
       "      <td>0.349</td>\n",
       "      <td>0.226439</td>\n",
       "    </tr>\n",
       "    <tr>\n",
       "      <th>1</th>\n",
       "      <td>0.000003</td>\n",
       "      <td>16</td>\n",
       "      <td>2</td>\n",
       "      <td>0.338</td>\n",
       "      <td>0.192937</td>\n",
       "    </tr>\n",
       "    <tr>\n",
       "      <th>0</th>\n",
       "      <td>0.000003</td>\n",
       "      <td>16</td>\n",
       "      <td>2</td>\n",
       "      <td>0.336</td>\n",
       "      <td>0.187924</td>\n",
       "    </tr>\n",
       "    <tr>\n",
       "      <th>7</th>\n",
       "      <td>0.000001</td>\n",
       "      <td>16</td>\n",
       "      <td>3</td>\n",
       "      <td>0.330</td>\n",
       "      <td>0.164379</td>\n",
       "    </tr>\n",
       "  </tbody>\n",
       "</table>\n",
       "</div>"
      ],
      "text/plain": [
       "   learning_rate  batch_size  num_train_epochs  accuracy        f1\n",
       "6       0.000041          32                 3     0.440  0.427779\n",
       "4       0.000028          16                 2     0.444  0.424834\n",
       "5       0.000019          32                 3     0.432  0.414063\n",
       "8       0.000007          16                 4     0.420  0.399548\n",
       "3       0.000008          32                 2     0.361  0.302639\n",
       "9       0.000004          16                 2     0.351  0.240920\n",
       "2       0.000002          16                 3     0.349  0.226439\n",
       "1       0.000003          16                 2     0.338  0.192937\n",
       "0       0.000003          16                 2     0.336  0.187924\n",
       "7       0.000001          16                 3     0.330  0.164379"
      ]
     },
     "execution_count": 8,
     "metadata": {},
     "output_type": "execute_result"
    }
   ],
   "source": [
    "df_trials.sort_values(by=\"f1\", ascending=False).head(10)\n"
   ]
  },
  {
   "cell_type": "code",
   "execution_count": 9,
   "id": "59d3ddca",
   "metadata": {},
   "outputs": [
    {
     "data": {
      "image/png": "[encoded data removed]",
      "text/plain": [
       "<Figure size 800x400 with 1 Axes>"
      ]
     },
     "metadata": {},
     "output_type": "display_data"
    }
   ],
   "source": [
    "import matplotlib.pyplot as plt\n",
    "\n",
    "plt.figure(figsize=(8, 4))\n",
    "plt.scatter(df_trials[\"learning_rate\"], df_trials[\"accuracy\"], label=\"Accuracy\")\n",
    "plt.scatter(df_trials[\"learning_rate\"], df_trials[\"f1\"], label=\"F1\", alpha=0.6)\n",
    "plt.xlabel(\"Learning Rate\")\n",
    "plt.ylabel(\"Score\")\n",
    "plt.title(\"Optuna Trial Results\")\n",
    "plt.legend()\n",
    "plt.grid(True)\n",
    "plt.show()\n"
   ]
  },
  {
   "cell_type": "markdown",
   "id": "4d122a04",
   "metadata": {},
   "source": [
    "### Train the model using the best hyperparamater"
   ]
  },
  {
   "cell_type": "code",
   "execution_count": null,
   "id": "83f1d1d5",
   "metadata": {},
   "outputs": [],
   "source": [
    "# Train the best model with the best hyperparameters\n",
    "best_params = {\n",
    "    \"learning_rate\": 2.8e-5,                    \n",
    "    \"per_device_train_batch_size\": 16,\n",
    "    \"num_train_epochs\": 2\n",
    "}\n",
    "\n",
    "\n",
    "def compute_metrics(eval_pred):\n",
    "    logits, labels = eval_pred\n",
    "    preds = np.argmax(logits, axis=-1)\n",
    "    return {\n",
    "        \"accuracy\": accuracy_score(labels, preds),\n",
    "        \"f1\": f1_score(labels, preds, average=\"weighted\")\n",
    "    }\n"
   ]
  },
  {
   "cell_type": "code",
   "execution_count": null,
   "id": "25cbe059",
   "metadata": {},
   "outputs": [
    {
     "name": "stderr",
     "output_type": "stream",
     "text": [
      "/Users/devishi/anaconda3/envs/fyp_clean/lib/python3.11/site-packages/huggingface_hub/file_download.py:896: FutureWarning: `resume_download` is deprecated and will be removed in version 1.0.0. Downloads always resume when possible. If you want to force a new download, use `force_download=True`.\n",
      "  warnings.warn(\n",
      "Some weights of DistilBertForSequenceClassification were not initialized from the model checkpoint at distilbert-base-uncased and are newly initialized: ['classifier.bias', 'classifier.weight', 'pre_classifier.bias', 'pre_classifier.weight']\n",
      "You should probably TRAIN this model on a down-stream task to be able to use it for predictions and inference.\n",
      "Some weights of DistilBertForSequenceClassification were not initialized from the model checkpoint at distilbert-base-uncased and are newly initialized: ['classifier.bias', 'classifier.weight', 'pre_classifier.bias', 'pre_classifier.weight']\n",
      "You should probably TRAIN this model on a down-stream task to be able to use it for predictions and inference.\n"
     ]
    },
    {
     "data": {
      "application/vnd.jupyter.widget-view+json": {
       "model_id": "48c3313d0c254c168e255bf41e780d56",
       "version_major": 2,
       "version_minor": 0
      },
      "text/plain": [
       "  0%|          | 0/500 [00:00<?, ?it/s]"
      ]
     },
     "metadata": {},
     "output_type": "display_data"
    },
    {
     "name": "stdout",
     "output_type": "stream",
     "text": [
      "{'loss': 1.4482, 'grad_norm': 2.8935046195983887, 'learning_rate': 2.2400000000000002e-05, 'epoch': 0.4}\n",
      "{'loss': 1.3198, 'grad_norm': 4.767672538757324, 'learning_rate': 1.68e-05, 'epoch': 0.8}\n"
     ]
    },
    {
     "data": {
      "application/vnd.jupyter.widget-view+json": {
       "model_id": "e1e728e32af84a92962da09a9419dc50",
       "version_major": 2,
       "version_minor": 0
      },
      "text/plain": [
       "  0%|          | 0/32 [00:00<?, ?it/s]"
      ]
     },
     "metadata": {},
     "output_type": "display_data"
    },
    {
     "name": "stdout",
     "output_type": "stream",
     "text": [
      "{'eval_loss': 1.2893497943878174, 'eval_accuracy': 0.419, 'eval_f1': 0.4021703263313438, 'eval_runtime': 9.1305, 'eval_samples_per_second': 109.523, 'eval_steps_per_second': 3.505, 'epoch': 1.0}\n",
      "{'loss': 1.3008, 'grad_norm': 6.841643333435059, 'learning_rate': 1.1200000000000001e-05, 'epoch': 1.2}\n",
      "{'loss': 1.2188, 'grad_norm': 5.756470203399658, 'learning_rate': 5.600000000000001e-06, 'epoch': 1.6}\n",
      "{'loss': 1.2335, 'grad_norm': 6.296639442443848, 'learning_rate': 0.0, 'epoch': 2.0}\n"
     ]
    },
    {
     "data": {
      "application/vnd.jupyter.widget-view+json": {
       "model_id": "36251f9e804a48419d2a4aad811bd1d6",
       "version_major": 2,
       "version_minor": 0
      },
      "text/plain": [
       "  0%|          | 0/32 [00:00<?, ?it/s]"
      ]
     },
     "metadata": {},
     "output_type": "display_data"
    },
    {
     "name": "stdout",
     "output_type": "stream",
     "text": [
      "{'eval_loss': 1.2717924118041992, 'eval_accuracy': 0.442, 'eval_f1': 0.42493753280486396, 'eval_runtime': 9.0169, 'eval_samples_per_second': 110.903, 'eval_steps_per_second': 3.549, 'epoch': 2.0}\n",
      "{'train_runtime': 258.1586, 'train_samples_per_second': 30.989, 'train_steps_per_second': 1.937, 'train_loss': 1.304235580444336, 'epoch': 2.0}\n"
     ]
    },
    {
     "data": {
      "text/plain": [
       "TrainOutput(global_step=500, training_loss=1.304235580444336, metrics={'train_runtime': 258.1586, 'train_samples_per_second': 30.989, 'train_steps_per_second': 1.937, 'train_loss': 1.304235580444336, 'epoch': 2.0})"
      ]
     },
     "execution_count": 12,
     "metadata": {},
     "output_type": "execute_result"
    }
   ],
   "source": [
    "model_name = \"distilbert-base-uncased\"\n",
    "def model_init():\n",
    "    return DistilBertForSequenceClassification.from_pretrained(model_name, num_labels=5)\n",
    "\n",
    "# Training arguments\n",
    "training_args = TrainingArguments(\n",
    "    output_dir=\"./distilbert_finetuned_best\",\n",
    "    evaluation_strategy=\"epoch\",\n",
    "    save_strategy=\"epoch\",\n",
    "    load_best_model_at_end=True,\n",
    "    metric_for_best_model=\"accuracy\",\n",
    "    learning_rate=best_params[\"learning_rate\"],\n",
    "    per_device_train_batch_size=best_params[\"per_device_train_batch_size\"],\n",
    "    per_device_eval_batch_size=32,\n",
    "    num_train_epochs=best_params[\"num_train_epochs\"],\n",
    "    weight_decay=0.01,\n",
    "    logging_steps=100,\n",
    "    save_total_limit=2\n",
    ")\n",
    "\n",
    "# Calling Trainer with the best hyperparameters\n",
    "trainer = Trainer(\n",
    "    model_init=model_init,\n",
    "    args=training_args,\n",
    "    train_dataset=train_dataset,\n",
    "    eval_dataset=test_dataset,\n",
    "    compute_metrics=compute_metrics,\n",
    "    callbacks=[EarlyStoppingCallback(early_stopping_patience=2)]\n",
    ")\n",
    "\n",
    "# Train the model\n",
    "trainer.train()\n"
   ]
  },
  {
   "cell_type": "code",
   "execution_count": null,
   "id": "e38d4771",
   "metadata": {},
   "outputs": [
    {
     "name": "stdout",
     "output_type": "stream",
     "text": [
      "Final Evaluation: {'eval_loss': 1.2717924118041992, 'eval_accuracy': 0.442, 'eval_f1': 0.42493753280486396, 'eval_runtime': 8.7057, 'eval_samples_per_second': 114.868, 'eval_steps_per_second': 3.676, 'epoch': 2.0}\n"
     ]
    },
    {
     "data": {
      "application/vnd.jupyter.widget-view+json": {
       "model_id": "7c677a57d4064cc6bdd4fd4f740bfb87",
       "version_major": 2,
       "version_minor": 0
      },
      "text/plain": [
       "  0%|          | 0/32 [00:00<?, ?it/s]"
      ]
     },
     "metadata": {},
     "output_type": "display_data"
    }
   ],
   "source": [
    "# Evaluate\n",
    "eval_results = trainer.evaluate()\n",
    "print(\"Final Evaluation:\", eval_results)\n",
    "\n",
    "# Predict labels on test set\n",
    "preds = trainer.predict(test_dataset)\n",
    "pred_labels = np.argmax(preds.predictions, axis=1)\n",
    "\n",
    "\n",
    "# Convert to 1–5 scale\n",
    "true_labels = test_df[\"label\"] + 1\n",
    "pred_labels = pred_labels + 1\n",
    "\n",
    "\n",
    "# Dataframe for prediction results\n",
    "df_predictions = pd.DataFrame({\n",
    "    \"Review\": test_df[\"text\"].tolist(),\n",
    "    \"True_Label\": true_labels.tolist(),\n",
    "    \"Predicted_Label\": pred_labels.tolist()\n",
    "})\n",
    "\n",
    "df_predictions.to_csv(\"distilbert_predictions.csv\", index=False)\n",
    "\n",
    "\n",
    "\n"
   ]
  },
  {
   "cell_type": "code",
   "execution_count": null,
   "id": "03f4ca75",
   "metadata": {},
   "outputs": [
    {
     "data": {
      "text/plain": [
       "('distilbert_finetuned_best/tokenizer_config.json',\n",
       " 'distilbert_finetuned_best/special_tokens_map.json',\n",
       " 'distilbert_finetuned_best/vocab.txt',\n",
       " 'distilbert_finetuned_best/added_tokens.json',\n",
       " 'distilbert_finetuned_best/tokenizer.json')"
      ]
     },
     "execution_count": 15,
     "metadata": {},
     "output_type": "execute_result"
    }
   ],
   "source": [
    "# Save model and tokenizer \n",
    "trainer.model.save_pretrained(\"distilbert_finetuned_best\")\n",
    "tokenizer.save_pretrained(\"distilbert_finetuned_best\")"
   ]
  },
  {
   "cell_type": "markdown",
   "id": "2d5e25a4",
   "metadata": {},
   "source": [
    "Evaluation and visualisation"
   ]
  },
  {
   "cell_type": "code",
   "execution_count": 16,
   "id": "0f284096",
   "metadata": {},
   "outputs": [
    {
     "data": {
      "text/html": [
       "<div>\n",
       "<style scoped>\n",
       "    .dataframe tbody tr th:only-of-type {\n",
       "        vertical-align: middle;\n",
       "    }\n",
       "\n",
       "    .dataframe tbody tr th {\n",
       "        vertical-align: top;\n",
       "    }\n",
       "\n",
       "    .dataframe thead th {\n",
       "        text-align: right;\n",
       "    }\n",
       "</style>\n",
       "<table border=\"1\" class=\"dataframe\">\n",
       "  <thead>\n",
       "    <tr style=\"text-align: right;\">\n",
       "      <th></th>\n",
       "      <th>Review</th>\n",
       "      <th>True_Label</th>\n",
       "      <th>Predicted_Label</th>\n",
       "    </tr>\n",
       "  </thead>\n",
       "  <tbody>\n",
       "    <tr>\n",
       "      <th>0</th>\n",
       "      <td>good pay time job short break tireless hour</td>\n",
       "      <td>3</td>\n",
       "      <td>4</td>\n",
       "    </tr>\n",
       "    <tr>\n",
       "      <th>1</th>\n",
       "      <td>people culture compensation hours kpi work ana...</td>\n",
       "      <td>5</td>\n",
       "      <td>4</td>\n",
       "    </tr>\n",
       "    <tr>\n",
       "      <th>2</th>\n",
       "      <td>opportunity grow constant feedback tiring job</td>\n",
       "      <td>4</td>\n",
       "      <td>3</td>\n",
       "    </tr>\n",
       "    <tr>\n",
       "      <th>3</th>\n",
       "      <td>job opportunity world internal training techno...</td>\n",
       "      <td>5</td>\n",
       "      <td>4</td>\n",
       "    </tr>\n",
       "    <tr>\n",
       "      <th>4</th>\n",
       "      <td>great team member facility extremely high pres...</td>\n",
       "      <td>4</td>\n",
       "      <td>5</td>\n",
       "    </tr>\n",
       "  </tbody>\n",
       "</table>\n",
       "</div>"
      ],
      "text/plain": [
       "                                              Review  True_Label  \\\n",
       "0        good pay time job short break tireless hour           3   \n",
       "1  people culture compensation hours kpi work ana...           5   \n",
       "2      opportunity grow constant feedback tiring job           4   \n",
       "3  job opportunity world internal training techno...           5   \n",
       "4  great team member facility extremely high pres...           4   \n",
       "\n",
       "   Predicted_Label  \n",
       "0                4  \n",
       "1                4  \n",
       "2                3  \n",
       "3                4  \n",
       "4                5  "
      ]
     },
     "execution_count": 16,
     "metadata": {},
     "output_type": "execute_result"
    }
   ],
   "source": [
    "df_bert = pd.read_csv(\"distilbert_predictions.csv\")\n",
    "df_bert.head()"
   ]
  },
  {
   "cell_type": "code",
   "execution_count": null,
   "id": "ed8be024",
   "metadata": {},
   "outputs": [
    {
     "name": "stdout",
     "output_type": "stream",
     "text": [
      "DistilBERT Accuracy: 0.4420\n",
      "DistilBERT F1 Score: 0.4249\n"
     ]
    }
   ],
   "source": [
    "\n",
    "acc = accuracy_score(df_bert[\"True_Label\"], df_bert[\"Predicted_Label\"])\n",
    "f1 = f1_score(df_bert[\"True_Label\"], df_bert[\"Predicted_Label\"], average=\"weighted\")\n",
    "\n",
    "print(f\"DistilBERT Accuracy: {acc:.4f}\")\n",
    "print(f\"DistilBERT F1 Score: {f1:.4f}\")\n"
   ]
  },
  {
   "cell_type": "code",
   "execution_count": 18,
   "id": "bc186609",
   "metadata": {},
   "outputs": [
    {
     "name": "stdout",
     "output_type": "stream",
     "text": [
      "              precision    recall  f1-score   support\n",
      "\n",
      "           1      0.466     0.380     0.419        71\n",
      "           2      0.222     0.045     0.075        89\n",
      "           3      0.364     0.338     0.351       231\n",
      "           4      0.449     0.529     0.485       331\n",
      "           5      0.494     0.568     0.528       278\n",
      "\n",
      "    accuracy                          0.442      1000\n",
      "   macro avg      0.399     0.372     0.372      1000\n",
      "weighted avg      0.423     0.442     0.425      1000\n",
      "\n"
     ]
    }
   ],
   "source": [
    "from sklearn.metrics import classification_report\n",
    "\n",
    "print(classification_report(df_bert[\"True_Label\"], df_bert[\"Predicted_Label\"], digits=3))\n"
   ]
  },
  {
   "cell_type": "code",
   "execution_count": 19,
   "id": "87b2acaf",
   "metadata": {},
   "outputs": [
    {
     "data": {
      "image/png": "[encoded data removed]",
      "text/plain": [
       "<Figure size 600x500 with 2 Axes>"
      ]
     },
     "metadata": {},
     "output_type": "display_data"
    }
   ],
   "source": [
    "import matplotlib.pyplot as plt\n",
    "import seaborn as sns\n",
    "from sklearn.metrics import confusion_matrix\n",
    "\n",
    "cm = confusion_matrix(df_bert[\"True_Label\"], df_bert[\"Predicted_Label\"], labels=[1,2,3,4,5])\n",
    "\n",
    "plt.figure(figsize=(6, 5))\n",
    "sns.heatmap(cm, annot=True, fmt=\"d\", cmap=\"Blues\", xticklabels=range(1,6), yticklabels=range(1,6))\n",
    "plt.xlabel(\"Predicted Rating\")\n",
    "plt.ylabel(\"True Rating\")\n",
    "plt.title(\"DistilBERT Confusion Matrix\")\n",
    "plt.show()\n"
   ]
  },
  {
   "cell_type": "code",
   "execution_count": 20,
   "id": "47d18be6",
   "metadata": {},
   "outputs": [
    {
     "data": {
      "text/html": [
       "<div>\n",
       "<style scoped>\n",
       "    .dataframe tbody tr th:only-of-type {\n",
       "        vertical-align: middle;\n",
       "    }\n",
       "\n",
       "    .dataframe tbody tr th {\n",
       "        vertical-align: top;\n",
       "    }\n",
       "\n",
       "    .dataframe thead th {\n",
       "        text-align: right;\n",
       "    }\n",
       "</style>\n",
       "<table border=\"1\" class=\"dataframe\">\n",
       "  <thead>\n",
       "    <tr style=\"text-align: right;\">\n",
       "      <th></th>\n",
       "      <th>Review</th>\n",
       "      <th>True_Label</th>\n",
       "      <th>Predicted_Label</th>\n",
       "    </tr>\n",
       "  </thead>\n",
       "  <tbody>\n",
       "    <tr>\n",
       "      <th>270</th>\n",
       "      <td>feed people feel satisfying minimum wage hard ...</td>\n",
       "      <td>3</td>\n",
       "      <td>4</td>\n",
       "    </tr>\n",
       "    <tr>\n",
       "      <th>809</th>\n",
       "      <td>great co worker easy job work night weekend</td>\n",
       "      <td>4</td>\n",
       "      <td>5</td>\n",
       "    </tr>\n",
       "    <tr>\n",
       "      <th>101</th>\n",
       "      <td>pro share management expect work 24/7/365</td>\n",
       "      <td>2</td>\n",
       "      <td>4</td>\n",
       "    </tr>\n",
       "    <tr>\n",
       "      <th>436</th>\n",
       "      <td>salary great benefit great maybe little far</td>\n",
       "      <td>4</td>\n",
       "      <td>5</td>\n",
       "    </tr>\n",
       "    <tr>\n",
       "      <th>123</th>\n",
       "      <td>love people work firm flexible pay hour lot up...</td>\n",
       "      <td>4</td>\n",
       "      <td>5</td>\n",
       "    </tr>\n",
       "    <tr>\n",
       "      <th>667</th>\n",
       "      <td>good training ground meet good brain market  a...</td>\n",
       "      <td>3</td>\n",
       "      <td>4</td>\n",
       "    </tr>\n",
       "    <tr>\n",
       "      <th>676</th>\n",
       "      <td>brand image learning exposure fair compensatio...</td>\n",
       "      <td>3</td>\n",
       "      <td>4</td>\n",
       "    </tr>\n",
       "    <tr>\n",
       "      <th>145</th>\n",
       "      <td>good company future prospectus fine company</td>\n",
       "      <td>3</td>\n",
       "      <td>5</td>\n",
       "    </tr>\n",
       "    <tr>\n",
       "      <th>922</th>\n",
       "      <td>great compensation unmatched commission struct...</td>\n",
       "      <td>5</td>\n",
       "      <td>3</td>\n",
       "    </tr>\n",
       "    <tr>\n",
       "      <th>243</th>\n",
       "      <td>big firm brand resume work life balance hectic...</td>\n",
       "      <td>4</td>\n",
       "      <td>3</td>\n",
       "    </tr>\n",
       "  </tbody>\n",
       "</table>\n",
       "</div>"
      ],
      "text/plain": [
       "                                                Review  True_Label  \\\n",
       "270  feed people feel satisfying minimum wage hard ...           3   \n",
       "809        great co worker easy job work night weekend           4   \n",
       "101          pro share management expect work 24/7/365           2   \n",
       "436        salary great benefit great maybe little far           4   \n",
       "123  love people work firm flexible pay hour lot up...           4   \n",
       "667  good training ground meet good brain market  a...           3   \n",
       "676  brand image learning exposure fair compensatio...           3   \n",
       "145        good company future prospectus fine company           3   \n",
       "922  great compensation unmatched commission struct...           5   \n",
       "243  big firm brand resume work life balance hectic...           4   \n",
       "\n",
       "     Predicted_Label  \n",
       "270                4  \n",
       "809                5  \n",
       "101                4  \n",
       "436                5  \n",
       "123                5  \n",
       "667                4  \n",
       "676                4  \n",
       "145                5  \n",
       "922                3  \n",
       "243                3  "
      ]
     },
     "execution_count": 20,
     "metadata": {},
     "output_type": "execute_result"
    }
   ],
   "source": [
    "df_errors = df_bert[df_bert[\"True_Label\"] != df_bert[\"Predicted_Label\"]]\n",
    "df_errors[[\"Review\", \"True_Label\", \"Predicted_Label\"]].sample(10)\n"
   ]
  },
  {
   "cell_type": "code",
   "execution_count": 21,
   "id": "3fac5dff",
   "metadata": {},
   "outputs": [
    {
     "data": {
      "image/png": "[encoded data removed]",
      "text/plain": [
       "<Figure size 800x500 with 1 Axes>"
      ]
     },
     "metadata": {},
     "output_type": "display_data"
    }
   ],
   "source": [
    "\n",
    "\n",
    "true_counts = df_bert[\"True_Label\"].value_counts().sort_index()\n",
    "pred_counts = df_bert[\"Predicted_Label\"].value_counts().sort_index()\n",
    "ratings = [1, 2, 3, 4, 5]\n",
    "\n",
    "x = np.arange(len(ratings))\n",
    "bar_width = 0.35\n",
    "\n",
    "plt.figure(figsize=(8, 5))\n",
    "plt.bar(x - bar_width/2, true_counts, width=bar_width, label=\"True\")\n",
    "plt.bar(x + bar_width/2, pred_counts, width=bar_width, label=\"Predicted\")\n",
    "\n",
    "plt.xlabel(\"Star Rating\")\n",
    "plt.ylabel(\"Count\")\n",
    "plt.title(\"DistilBERT: True vs Predicted Label Frequency\")\n",
    "plt.xticks(x, ratings)\n",
    "plt.legend()\n",
    "plt.grid(axis=\"y\")\n",
    "plt.show()\n"
   ]
  }
 ],
 "metadata": {
  "kernelspec": {
   "display_name": "fyp_clean",
   "language": "python",
   "name": "python3"
  },
  "language_info": {
   "codemirror_mode": {
    "name": "ipython",
    "version": 3
   },
   "file_extension": ".py",
   "mimetype": "text/x-python",
   "name": "python",
   "nbconvert_exporter": "python",
   "pygments_lexer": "ipython3",
   "version": "3.11.8"
  }
 },
 "nbformat": 4,
 "nbformat_minor": 5
}
